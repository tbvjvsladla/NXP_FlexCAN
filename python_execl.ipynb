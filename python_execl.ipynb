{
 "cells": [
  {
   "attachments": {},
   "cell_type": "markdown",
   "metadata": {},
   "source": [
    "엑셀 파이썬 사용 -> openopxl 라이브러리 -> workbook 클래스와 함께사용"
   ]
  },
  {
   "cell_type": "code",
   "execution_count": 28,
   "metadata": {},
   "outputs": [],
   "source": [
    "from openpyxl import Workbook\n",
    "wb = Workbook()\n",
    "#위 명령으로 파일 생성되는지 확인해보자 -> 이건 저장명령어 없으면 파일생성은 안되는듯\n",
    "#위 Workbook는 안에 파일경로 넣으면 이상해진다. "
   ]
  },
  {
   "cell_type": "code",
   "execution_count": 29,
   "metadata": {},
   "outputs": [
    {
     "name": "stdout",
     "output_type": "stream",
     "text": [
      "<Worksheet \"Sheet\">\n"
     ]
    }
   ],
   "source": [
    "ws = wb.active\n",
    "print(ws)"
   ]
  },
  {
   "cell_type": "code",
   "execution_count": 30,
   "metadata": {},
   "outputs": [],
   "source": [
    "ws = wb.create_sheet(\"Sheet1\")"
   ]
  },
  {
   "cell_type": "code",
   "execution_count": 31,
   "metadata": {},
   "outputs": [
    {
     "name": "stdout",
     "output_type": "stream",
     "text": [
      "<Worksheet \"Sheet1\">\n"
     ]
    }
   ],
   "source": [
    "print(ws)"
   ]
  },
  {
   "cell_type": "code",
   "execution_count": 32,
   "metadata": {},
   "outputs": [
    {
     "data": {
      "text/plain": [
       "['Sheet', 'Sheet1']"
      ]
     },
     "execution_count": 32,
     "metadata": {},
     "output_type": "execute_result"
    }
   ],
   "source": [
    "wb.sheetnames #생성된 시트 목록 확인\n",
    "#ws1 = wb.create_sheet(\"시트1\")      # 끝에 삽입 (기본값)\n",
    "#ws2 = wb.create_sheet(\"시트2\", 0)   # 첫 번째 위치에 삽입\n",
    "#ws3 = wb.create_sheet(\"시트3\", -1)  # 끝에서 두 번째 위치에 삽입\n"
   ]
  },
  {
   "cell_type": "code",
   "execution_count": 33,
   "metadata": {},
   "outputs": [
    {
     "name": "stdout",
     "output_type": "stream",
     "text": [
      "<Worksheet \"Sheet\">\n"
     ]
    }
   ],
   "source": [
    "ws = wb.active\n",
    "print(ws)"
   ]
  },
  {
   "cell_type": "code",
   "execution_count": 34,
   "metadata": {},
   "outputs": [],
   "source": [
    "# for sheet in wb:\n",
    "#     print(sheet.title)\n",
    "#위 코드는 시트 여러개일때 확인하는거\n",
    "\n",
    "# source = wb.active\n",
    "# target = wb.copy_worksheet(source)\n",
    "#이거는 시트 복사"
   ]
  },
  {
   "cell_type": "code",
   "execution_count": 37,
   "metadata": {},
   "outputs": [
    {
     "data": {
      "text/plain": [
       "4"
      ]
     },
     "execution_count": 37,
     "metadata": {},
     "output_type": "execute_result"
    }
   ],
   "source": [
    "c = ws['A4'] = 4\n",
    "c"
   ]
  },
  {
   "cell_type": "code",
   "execution_count": 40,
   "metadata": {},
   "outputs": [
    {
     "data": {
      "text/plain": [
       "<Cell 'Sheet'.B4>"
      ]
     },
     "execution_count": 40,
     "metadata": {},
     "output_type": "execute_result"
    }
   ],
   "source": [
    "d = ws.cell(row = 4, column = 2, value = 10) #셀의 row, column으로 접근해서 값 넣기\n",
    "d"
   ]
  },
  {
   "cell_type": "code",
   "execution_count": 41,
   "metadata": {},
   "outputs": [],
   "source": [
    "for x in range(1, 101):\n",
    "    for y in range(1, 101):\n",
    "        ws.cell(row = x, column= y)\n",
    "#다중 셀에 접근하는 방법 -> 이것은 정확히는 아직은 메모리 영역에 있는\n",
    "#엑셀시트 내에서 x * y 크기의 빈 셀을 메모리 영역에 만드는거임"
   ]
  },
  {
   "cell_type": "code",
   "execution_count": 42,
   "metadata": {},
   "outputs": [
    {
     "data": {
      "text/plain": [
       "((<Cell 'Sheet'.A1>, <Cell 'Sheet'.B1>, <Cell 'Sheet'.C1>),\n",
       " (<Cell 'Sheet'.A2>, <Cell 'Sheet'.B2>, <Cell 'Sheet'.C2>))"
      ]
     },
     "execution_count": 42,
     "metadata": {},
     "output_type": "execute_result"
    }
   ],
   "source": [
    "cell_range = ws['A1':'C2']\n",
    "cell_range"
   ]
  },
  {
   "cell_type": "code",
   "execution_count": 66,
   "metadata": {},
   "outputs": [
    {
     "name": "stdout",
     "output_type": "stream",
     "text": [
      "C2 <class 'tuple'>\n",
      "C 2 <Cell 'Sheet'.C2> D2 <class 'tuple'>\n",
      "D 2 <Cell 'Sheet'.D2> E2 <class 'tuple'>\n",
      "E 2 <Cell 'Sheet'.E2> F2 <class 'tuple'>\n",
      "F 2 <Cell 'Sheet'.F2>  \n",
      "C3 <class 'tuple'>\n",
      "C 3 <Cell 'Sheet'.C3> D3 <class 'tuple'>\n",
      "D 3 <Cell 'Sheet'.D3> E3 <class 'tuple'>\n",
      "E 3 <Cell 'Sheet'.E3> F3 <class 'tuple'>\n",
      "F 3 <Cell 'Sheet'.F3>  \n",
      "C4 <class 'tuple'>\n",
      "C 4 <Cell 'Sheet'.C4> D4 <class 'tuple'>\n",
      "D 4 <Cell 'Sheet'.D4> E4 <class 'tuple'>\n",
      "E 4 <Cell 'Sheet'.E4> F4 <class 'tuple'>\n",
      "F 4 <Cell 'Sheet'.F4>  \n",
      "C5 <class 'tuple'>\n",
      "C 5 <Cell 'Sheet'.C5> D5 <class 'tuple'>\n",
      "D 5 <Cell 'Sheet'.D5> E5 <class 'tuple'>\n",
      "E 5 <Cell 'Sheet'.E5> F5 <class 'tuple'>\n",
      "F 5 <Cell 'Sheet'.F5>  \n",
      "-----------\n",
      "-----------\n",
      "-----------\n",
      "<Cell 'Sheet'.G5> <Cell 'Sheet'.G6>  \n",
      "<Cell 'Sheet'.H5> <Cell 'Sheet'.H6>  \n",
      "<Cell 'Sheet'.I5> <Cell 'Sheet'.I6>  \n",
      "<Cell 'Sheet'.J5> <Cell 'Sheet'.J6>  \n"
     ]
    }
   ],
   "source": [
    "from openpyxl.utils.cell import coordinate_from_string\n",
    "\n",
    "#생성한 셀에 반복문을 통해 접근하는 방법\n",
    "for row in ws.iter_rows(min_row=2, min_col=3, max_row=5, max_col=6):\n",
    "    #3, 4, 5, 6, 세로로 for문 시작\n",
    "    for cell in row:\n",
    "        print(cell.coordinate, end=' ')\n",
    "        xy = coordinate_from_string(cell.coordinate)\n",
    "        print(type(xy))\n",
    "        print(xy[0], end = \" \")\n",
    "        print(xy[1], end = \" \")\n",
    "        print(cell, end=' ')\n",
    "    print(' ')\n",
    "print('-----------')\n",
    "print('-----------')\n",
    "print('-----------')\n",
    "for col in ws.iter_cols(min_row=5, min_col=7, max_row=6, max_col=10):\n",
    "    #A, B, C, D 가로로 For문 시\n",
    "    for cell2 in col:\n",
    "        print(cell2, end=' ')\n",
    "    print(' ')\n"
   ]
  },
  {
   "cell_type": "code",
   "execution_count": 67,
   "metadata": {},
   "outputs": [
    {
     "name": "stdout",
     "output_type": "stream",
     "text": [
      "None None None None  \n",
      "None None None None  \n",
      "None None None None  \n",
      "None None None None  \n",
      "None None None None  \n",
      "None None None None  \n",
      "None None None None  \n",
      "None None None None  \n"
     ]
    }
   ],
   "source": [
    "#파이썬의 모든 행이나 열에 접근할 대 -> Worksheet.rows, Worksheet.columns\n",
    "\n",
    "#워크시트 값 접근 : Worksheet.values\n",
    "#워크 시트의 값만 원하면 Worksheet.values 속성을 이용하면 된다. 워크 시트의 모든 행을 순회하지만 셀의 값만 출력한다.\n",
    "for row in ws.iter_rows(min_row=2, min_col=3, max_row=5, max_col=6, values_only=True):\n",
    "    #3, 4, 5, 6, 세로로 for문 시작\n",
    "    for cell in row:\n",
    "        print(cell, end=' ')\n",
    "    print(' ')\n",
    "\n",
    "#아래 for문 처럼 values_only=True 으로도 접근가능\n",
    "for row in ws.iter_rows(min_row=2, min_col=3, max_row=5, max_col=6, values_only=True):\n",
    "    #3, 4, 5, 6, 세로로 for문 시작\n",
    "    for cell in row:\n",
    "        print(cell, end=' ')\n",
    "    print(' ')"
   ]
  },
  {
   "cell_type": "code",
   "execution_count": 68,
   "metadata": {},
   "outputs": [],
   "source": [
    "#openpyxl.load_workbook()을 통해 존재하는 통합 문서를 열 수 있다.\n",
    "\n",
    "# from openpyxl import load_workbook\n",
    "# wb = load_workbook(\"document.xlsx\")\n",
    "# wb.sheetnames\n",
    "\n",
    "#값 할당 -> 셀.value\n",
    "# d.value = 3.14\n",
    "# print(d.value)\n",
    "\n",
    "#저장 -> wb.save\n",
    "# wb = Workbook()\n",
    "# wb.save(\"document.xlsx\")"
   ]
  }
 ],
 "metadata": {
  "kernelspec": {
   "display_name": "Python 3",
   "language": "python",
   "name": "python3"
  },
  "language_info": {
   "codemirror_mode": {
    "name": "ipython",
    "version": 3
   },
   "file_extension": ".py",
   "mimetype": "text/x-python",
   "name": "python",
   "nbconvert_exporter": "python",
   "pygments_lexer": "ipython3",
   "version": "3.8.10"
  },
  "orig_nbformat": 4,
  "vscode": {
   "interpreter": {
    "hash": "ab0ae3851c73144205566d4673eb8d67c713f0d735258a20f50a4ee708400068"
   }
  }
 },
 "nbformat": 4,
 "nbformat_minor": 2
}
